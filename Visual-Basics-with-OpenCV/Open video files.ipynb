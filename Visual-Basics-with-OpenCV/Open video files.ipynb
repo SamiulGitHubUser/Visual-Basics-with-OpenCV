{
 "cells": [
  {
   "cell_type": "markdown",
   "metadata": {},
   "source": [
    "# Open video files from computer"
   ]
  },
  {
   "cell_type": "code",
   "execution_count": null,
   "metadata": {},
   "outputs": [],
   "source": [
    "# Import Libraries\n",
    "import cv2\n",
    "\n",
    "# Open the video from the pervious code that has save in computer\n",
    "cap = cv2.VideoCapture('myvideo.mkv')\n",
    "\n",
    "# In case we wrote the path wrong\n",
    "if cap.isOpened() == False:\n",
    "    print(\"Error! Please Check your file path.\")\n",
    "\n",
    "# Some Magic!\n",
    "while cap.isOpened():\n",
    "    ret, frame = cap.read()\n",
    "    \n",
    "    if ret == True:\n",
    "    # We wrote it with 20 FPS on the previous section\n",
    "    # So, We need a delay of 1/20 if we want to see it\n",
    "    # Uncomment the line if want to see it\n",
    "    # time.sleep(1/20)\n",
    "\n",
    "         # Show it\n",
    "        cv2.imshow('Frame', frame)\n",
    "        # 'q' == esc button\n",
    "        # If you try to close the window pressing x you'll get in trouble (^_^)\n",
    "        if cv2.waitKey(15) & 0xFF == 'q':\n",
    "            break\n",
    "\n",
    "# Never forget first to release\n",
    "# And then to destroy all\n",
    "cap.release()\n",
    "cv2.destoryAllWindow()"
   ]
  },
  {
   "cell_type": "code",
   "execution_count": null,
   "metadata": {},
   "outputs": [],
   "source": []
  }
 ],
 "metadata": {
  "kernelspec": {
   "display_name": "Python 3",
   "language": "python",
   "name": "python3"
  },
  "language_info": {
   "codemirror_mode": {
    "name": "ipython",
    "version": 3
   },
   "file_extension": ".py",
   "mimetype": "text/x-python",
   "name": "python",
   "nbconvert_exporter": "python",
   "pygments_lexer": "ipython3",
   "version": "3.7.6"
  }
 },
 "nbformat": 4,
 "nbformat_minor": 4
}
